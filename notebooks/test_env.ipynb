{
 "cells": [
  {
   "cell_type": "code",
   "execution_count": 11,
   "id": "a35d1211-4001-4ac4-bfe1-72922c1c71e8",
   "metadata": {},
   "outputs": [],
   "source": [
    "import openai\n",
    "import torch\n",
    "assert torch.cuda.is_available()\n",
    "from dotenv import load_dotenv\n",
    "from llama_index.llms import ChatMessage, OpenAI\n",
    "from llama_index.llms.base import LLMMetadata\n",
    "from vllm import LLM, SamplingParams"
   ]
  },
  {
   "cell_type": "code",
   "execution_count": 24,
   "id": "bb55b8cb-c1bd-480d-9fc1-bebf728144ef",
   "metadata": {},
   "outputs": [],
   "source": [
    "VLLM_IP = \"127.0.0.1\"\n",
    "openai.api_base = f\"http://{FASTCHAT_IP}:6969/v1\"\n",
    "openai.api_key = \"EMPTY\"\n",
    "\n",
    "\n",
    "class Llama2vLLM(OpenAI):\n",
    "    @property\n",
    "    def metadata(self) -> LLMMetadata:\n",
    "        return LLMMetadata(\n",
    "            context_window=512,\n",
    "            num_output=self.max_tokens or -1,\n",
    "            is_chat_model=self._is_chat_model,\n",
    "            is_function_calling_model=False,\n",
    "            model_name=self.model,\n",
    "        )"
   ]
  },
  {
   "cell_type": "code",
   "execution_count": 25,
   "id": "e10c9f22-8768-4532-868c-706977e191ef",
   "metadata": {},
   "outputs": [
    {
     "name": "stdout",
     "output_type": "stream",
     "text": [
      "assistant:  2 1 3 5 8\n"
     ]
    }
   ],
   "source": [
    "messages = [\n",
    "    ChatMessage(role=\"system\", content=\"You are a fibonnaci sequence\"),\n",
    "    ChatMessage(role=\"user\", content=\"1 1 2 3 5 8 \"),\n",
    "]\n",
    "\n",
    "resp = Llama2vLLM(model=\"bigscience/bloomz-560m\", temperature=0.4, max_tokens=64).chat(messages)\n",
    "print(resp)"
   ]
  },
  {
   "cell_type": "code",
   "execution_count": null,
   "id": "19ad778a-6d97-4361-b893-f0343127a8ae",
   "metadata": {},
   "outputs": [],
   "source": []
  }
 ],
 "metadata": {
  "kernelspec": {
   "display_name": "Python 3 (ipykernel)",
   "language": "python",
   "name": "python3"
  },
  "language_info": {
   "codemirror_mode": {
    "name": "ipython",
    "version": 3
   },
   "file_extension": ".py",
   "mimetype": "text/x-python",
   "name": "python",
   "nbconvert_exporter": "python",
   "pygments_lexer": "ipython3",
   "version": "3.10.8"
  }
 },
 "nbformat": 4,
 "nbformat_minor": 5
}
